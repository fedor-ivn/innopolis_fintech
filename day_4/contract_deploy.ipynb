{
 "cells": [
  {
   "cell_type": "markdown",
   "metadata": {},
   "source": []
  },
  {
   "cell_type": "code",
   "execution_count": 1,
   "metadata": {},
   "outputs": [],
   "source": [
    "import json\n",
    "from web3 import Web3, HTTPProvider"
   ]
  },
  {
   "cell_type": "markdown",
   "metadata": {},
   "source": []
  },
  {
   "cell_type": "code",
   "execution_count": 2,
   "metadata": {},
   "outputs": [],
   "source": [
    "with open(\"bytecode.txt\") as file:\n",
    "    bytecode = file.read()\n",
    "\n",
    "with open(\"abi.json\") as file:\n",
    "    abi = json.loads(file.read())\n"
   ]
  },
  {
   "cell_type": "code",
   "execution_count": 3,
   "metadata": {},
   "outputs": [],
   "source": [
    "HTTP_PROVIDER_URL = 'https://sokol.poa.network'\n",
    "PRIVATE_KEY = 'INSERT YOUR PRIVATE_KEY HERE'"
   ]
  },
  {
   "cell_type": "code",
   "execution_count": 5,
   "metadata": {},
   "outputs": [],
   "source": [
    "w3 = Web3(HTTPProvider(HTTP_PROVIDER_URL))\n",
    "account = w3.eth.account.privateKeyToAccount(PRIVATE_KEY)"
   ]
  },
  {
   "cell_type": "code",
   "execution_count": 6,
   "metadata": {},
   "outputs": [],
   "source": [
    "contract = w3.eth.contract(bytecode=bytecode, abi=abi)"
   ]
  },
  {
   "cell_type": "code",
   "execution_count": 7,
   "metadata": {},
   "outputs": [],
   "source": [
    "tx = contract.constructor().buildTransaction({\n",
    "    'from': account.address,\n",
    "    'nonce': w3.eth.getTransactionCount(account.address),\n",
    "    'gas': w3.toWei(400, 'kwei'),\n",
    "    'gasPrice': w3.toWei(1, 'gwei')\n",
    "})\n",
    "\n",
    "signed_tx = account.signTransaction(tx)"
   ]
  },
  {
   "cell_type": "code",
   "execution_count": 8,
   "metadata": {},
   "outputs": [],
   "source": [
    "tx_hash = w3.eth.sendRawTransaction(signed_tx.rawTransaction)\n",
    "\n",
    "tx_receipt = w3.eth.waitForTransactionReceipt(tx_hash)"
   ]
  },
  {
   "cell_type": "code",
   "execution_count": 9,
   "metadata": {},
   "outputs": [
    {
     "name": "stdout",
     "output_type": "stream",
     "text": [
      "0x51bb0e318333555b2314ee18179a4b02efc65668bf3e9244921c2708fa055e15 confirmed\n",
      "contract address: 0xa8E363f12A8C3e05Fa2b6939Dcdc89B4c0657660\n",
      "deployed at block: 16493195\n"
     ]
    }
   ],
   "source": [
    "if tx_receipt['status'] == 1:\n",
    "    print(f'{tx_hash.hex()} confirmed')\n",
    "    print(\"contract address: \" + tx_receipt['contractAddress'])\n",
    "    print(\"deployed at block: \" + str(tx_receipt['blockNumber']))\n"
   ]
  },
  {
   "cell_type": "code",
   "execution_count": 10,
   "metadata": {},
   "outputs": [],
   "source": [
    "gas_estimated = contract.constructor().estimateGas({\n",
    "    'from': account.address,\n",
    "    'gasPrice': 1000000000\n",
    "})"
   ]
  },
  {
   "cell_type": "code",
   "execution_count": 11,
   "metadata": {},
   "outputs": [
    {
     "data": {
      "text/plain": [
       "240947"
      ]
     },
     "execution_count": 11,
     "metadata": {},
     "output_type": "execute_result"
    }
   ],
   "source": [
    "gas_estimated"
   ]
  }
 ],
 "metadata": {
  "kernelspec": {
   "display_name": "innopolis_fintech",
   "language": "python",
   "name": "innopolis_fintech"
  },
  "language_info": {
   "codemirror_mode": {
    "name": "ipython",
    "version": 3
   },
   "file_extension": ".py",
   "mimetype": "text/x-python",
   "name": "python",
   "nbconvert_exporter": "python",
   "pygments_lexer": "ipython3",
   "version": "3.7.4"
  },
  "pycharm": {
   "stem_cell": {
    "cell_type": "raw",
    "source": [],
    "metadata": {
     "collapsed": false
    }
   }
  }
 },
 "nbformat": 4,
 "nbformat_minor": 4
}